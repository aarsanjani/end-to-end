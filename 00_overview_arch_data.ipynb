{
 "cells": [
  {
   "cell_type": "markdown",
   "metadata": {},
   "source": [
    "<a id='00-nb'></a>\n",
    "\n",
    "# Architect and Build a Music Recommender System across the Entire ML-Lifecycle with Amazon SageMaker\n",
    "\n",
    "## Overview\n",
    "\n",
    "----\n",
    "\n",
    "Welcome of the Music Recommender use-case with Amazon SageMaker. In this series of notebooks we will go through the ML Lifecycle and show how we can build a Music Recommender System using a combination of SageMaker Services and features. IN each phase, we will have relevant notebooks that show you how easy it is to implement that phase of the lifecycle.\n",
    "\n",
    "\n",
    "----\n",
    "\n",
    "### Contents\n",
    "\n",
    "- [Overview](00_overview_arch_data.ipynb)\n",
    "    - [Architecture](#arch-overview)\n",
    "    - [Get the Data](#get-the-data)\n",
    "    - [Update the data sources](#update-data-sources)\n",
    "    - [Explore the Data](#explore-data)\n",
    "- [Part 1: Data Prep using Data Wrangler](01_music_dataprep.flow)\n",
    "- [Part 2a: Feature Store Creation - Tracks](02a_export_fg_tracks.ipynb)\n",
    "- [Part 2b: Feature Store Creation - User Preferences](02b_export_fg_5star_features.ipynb)\n",
    "- [Part 2c: Feature Store Creation - Ratings](02c_export_fg_ratings.ipynb)\n",
    "- [Part 3: Train Model with Debugger Hooks. Set Artifacts and Register Model.](03_train_model_lineage_registry_debugger.ipynb)\n",
    "- [Part 4: Deploy Model & Inference using Online Feature Store](04_deploy_infer_explain.ipynb)\n",
    "- [Part 5: Model Monitor](05_model_monitor.ipynb)\n",
    "- [Part 6: SageMaker Pipelines](06_pipeline.ipynb)\n",
    "- [Part 7: Resource Cleanup](07_clean_up.ipynb)"
   ]
  },
  {
   "cell_type": "markdown",
   "metadata": {},
   "source": [
    "<a id ='arch-overview'></a>\n",
    "\n",
    "## Architecture\n",
    "\n",
    "Let's look at the overall solution architecure for this use case. We will start by doing each of these tasks within the exploratoyr phase of the ML Lifecycle, then when we are done with Experimentation and Trials, we can develop an automated pipeline such as the one depicted here to prepare data, deposit in feature store, train and tune the model, deposit it in the registry, then deploy it to a SageMaker hosted endpoint, and run Monitoring on it.\n",
    "\n",
    "##### [back to top](#00-nb)\n",
    "\n",
    "----\n",
    "\n",
    "![Solution Architecure](./images/music-rec.png)"
   ]
  },
  {
   "cell_type": "code",
   "execution_count": 19,
   "metadata": {},
   "outputs": [
    {
     "name": "stdout",
     "output_type": "stream",
     "text": [
      "Loading : \n",
      "\n",
      "{'music-rec': {'__timestamp': '05/08/2021 04:13:29',\n",
      "               'bucket': 'sagemaker-us-east-2-738335684114',\n",
      "               'dataprep_pipeline_name': 'MusicRecommendationDataPrepPipeline',\n",
      "               'dw_ecrlist': {'region': {'us-east-1': '663277389841',\n",
      "                                         'us-east-2': '415577184552',\n",
      "                                         'us-west-1': '926135532090',\n",
      "                                         'us-west-2': '174368400705'}},\n",
      "               'endpoint_name': 'music-recommendation-model-endpoint-notebooks',\n",
      "               'fg_name_ratings': 'ratings-features-music-rec',\n",
      "               'fg_name_tracks': 'track-features-music-rec',\n",
      "               'fg_name_user_preferences': 'user-5star-track-features-music-rec',\n",
      "               'flow_export_id': '05-03-12-03-b8fb778d',\n",
      "               'flow_s3_uri': 's3://sagemaker-us-east-2-738335684114/music-recommendation/data_wrangler_flows/flow-05-03-12-03-b8fb778d.flow',\n",
      "               'model_name': 'music-recommendation-model',\n",
      "               'mpg_name': 'music-recommendation-notebooks',\n",
      "               'pipeline_endpoint_name': 'music-rec-model-endpoint',\n",
      "               'pipeline_name': 'MusicRecommendationPipeline',\n",
      "               'prefix': 'music-recommendation',\n",
      "               'pretrained_model_path': 's://sagemaker-us-east-2-738335684114/music-recommendation/model.tar.gz',\n",
      "               'ratings_data_source': 's3://sagemaker-us-east-2-738335684114/music-recommendation/ratings.csv',\n",
      "               's3_debugger_output_path': 's3://sagemaker-us-east-2-738335684114/music-recommendation/training_jobs/debugger/music-recommendation-model-2021-08-05-03-33-38-108/debug-output',\n",
      "               's3_output_path': 's3://sagemaker-us-east-2-738335684114',\n",
      "               'tracks_data_source': 's3://sagemaker-us-east-2-738335684114/music-recommendation/tracks.csv',\n",
      "               'train_data_uri': 's3://sagemaker-us-east-2-738335684114/music-recommendation/data/train/train_data.csv',\n",
      "               'train_deploy_pipeline_name': 'MusicRecommendationTrainDeployPipeline',\n",
      "               'training_job_name': 'music-recommendation-model-2021-08-05-03-33-38-108',\n",
      "               'val_data_uri': 's3://sagemaker-us-east-2-738335684114/music-recommendation/data/val/val_data.csv'}}\n",
      "Creating : \n",
      "\n",
      "{'__timestamp': '05/08/2021 03:11:33',\n",
      " 'bucket': 'sagemaker-us-east-2-738335684114',\n",
      " 'prefix': 'music-recommendation',\n",
      " 'pretrained_model_path': 's://sagemaker-us-east-2-738335684114/music-recommendation/model.tar.gz',\n",
      " 'ratings_data_source': 's3://sagemaker-us-east-2-738335684114/music-recommendation/ratings.csv',\n",
      " 'tracks_data_source': 's3://sagemaker-us-east-2-738335684114/music-recommendation/tracks.csv'}\n"
     ]
    }
   ],
   "source": [
    "import sys\n",
    "import pprint\n",
    "sys.path.insert(1, './code')\n",
    "from parameter_store import ParameterStore\n",
    "\n",
    "ps = ParameterStore()\n",
    "ps.create(namespace='music-rec')"
   ]
  },
  {
   "cell_type": "code",
   "execution_count": 20,
   "metadata": {},
   "outputs": [
    {
     "name": "stdout",
     "output_type": "stream",
     "text": [
      "/opt/conda/lib/python3.7/site-packages/secretstorage/dhcrypto.py:16: CryptographyDeprecationWarning: int_from_bytes is deprecated, use int.from_bytes instead\n",
      "  from cryptography.utils import int_from_bytes\n",
      "/opt/conda/lib/python3.7/site-packages/secretstorage/util.py:25: CryptographyDeprecationWarning: int_from_bytes is deprecated, use int.from_bytes instead\n",
      "  from cryptography.utils import int_from_bytes\n",
      "\u001b[33mWARNING: Running pip as the 'root' user can result in broken permissions and conflicting behaviour with the system package manager. It is recommended to use a virtual environment instead: https://pip.pypa.io/warnings/venv\u001b[0m\n",
      "\u001b[33mWARNING: You are using pip version 21.1.3; however, version 21.2.2 is available.\n",
      "You should consider upgrading via the '/opt/conda/bin/python -m pip install --upgrade pip' command.\u001b[0m\n",
      "1.3.1\n"
     ]
    }
   ],
   "source": [
    "# update pandas to avoid data type issues in older 1.0 version\n",
    "!pip install pandas --upgrade --quiet\n",
    "import pandas as pd\n",
    "print(pd.__version__)"
   ]
  },
  {
   "cell_type": "code",
   "execution_count": 21,
   "metadata": {},
   "outputs": [
    {
     "name": "stdout",
     "output_type": "stream",
     "text": [
      "mkdir: cannot create directory ‘data’: File exists\n"
     ]
    }
   ],
   "source": [
    "# create data folder\n",
    "!mkdir data"
   ]
  },
  {
   "cell_type": "code",
   "execution_count": 22,
   "metadata": {},
   "outputs": [
    {
     "name": "stdout",
     "output_type": "stream",
     "text": [
      "this is your default SageMaker Studio bucket name: sagemaker-us-east-2-738335684114\n",
      "Updating Params : \n",
      "\n",
      "{'bucket': 'sagemaker-us-east-2-738335684114', 'prefix': 'music-recommendation'}\n"
     ]
    }
   ],
   "source": [
    "import pandas as pd\n",
    "import matplotlib.pyplot as plt\n",
    "%matplotlib inline\n",
    "\n",
    "import json\n",
    "import sagemaker \n",
    "import boto3\n",
    "import os\n",
    "from awscli.customizations.s3.utils import split_s3_bucket_key\n",
    "\n",
    "# Sagemaker session\n",
    "sess = sagemaker.Session()\n",
    "# get session bucket name\n",
    "bucket = sess.default_bucket()\n",
    "# bucket prefix or the subfolder for everything we produce\n",
    "prefix='music-recommendation'\n",
    "# s3 client\n",
    "s3_client = boto3.client(\"s3\")\n",
    "\n",
    "print(f\"this is your default SageMaker Studio bucket name: {bucket}\")  \n",
    "\n",
    "ps.add({'bucket': bucket, 'prefix': prefix}, namespace='music-rec')"
   ]
  },
  {
   "cell_type": "code",
   "execution_count": 23,
   "metadata": {},
   "outputs": [],
   "source": [
    "def get_data(public_s3_data, to_bucket, sample_data=1):\n",
    "    new_paths = []\n",
    "    for f in public_s3_data:\n",
    "        bucket_name, key_name = split_s3_bucket_key(f)\n",
    "        filename = f.split('/')[-1]\n",
    "        new_path = \"s3://{}/{}/{}\".format(to_bucket, prefix, filename)\n",
    "        new_paths.append(new_path)\n",
    "        \n",
    "        # only download if not already downloaded\n",
    "        if not os.path.exists('./data/{}'.format(filename)):\n",
    "            # download s3 data\n",
    "            print(\"Downloading file from {}\".format(f))\n",
    "            s3_client.download_file(bucket_name, key_name, './data/{}'.format(filename))\n",
    "    \n",
    "        # subsample the data to create a smaller datatset for this demo\n",
    "        new_df = pd.read_csv('./data/{}'.format(filename))\n",
    "        new_df = new_df.sample(frac=sample_data)\n",
    "        new_df.to_csv('./data/{}'.format(filename), index=False)\n",
    "        \n",
    "        # upload s3 data to our default s3 bucket for SageMaker Studio\n",
    "        print(\"Uploading {} to {}\\n\".format(filename, new_path))\n",
    "        s3_client.upload_file('./data/{}'.format(filename), to_bucket, os.path.join(prefix,filename))\n",
    "        \n",
    "    return new_paths\n",
    "\n",
    "\n",
    "def get_model(model_path, to_bucket):\n",
    "    # upload model to our default s3 bucket for SageMaker Studio\n",
    "    filename = model_path.split('/')[-1]\n",
    "    print(\"Uploading {} to {}\\n\".format(model_path, os.path.join(to_bucket,prefix,filename)))\n",
    "    s3_client.upload_file(model_path, to_bucket, os.path.join(prefix,filename))\n",
    "    return \"s://{}\".format(os.path.join(to_bucket,prefix,filename))\n",
    "        \n",
    "\n",
    "def update_data_sources(flow_path, tracks_data_source, ratings_data_source):\n",
    "    with open(flow_path) as flowf:\n",
    "        flow = json.load(flowf)\n",
    "        \n",
    "    for node in flow['nodes']:\n",
    "        # if the key exists for our s3 endpoint\n",
    "        try:\n",
    "            if node['parameters']['dataset_definition']['name'] == 'tracks.csv':\n",
    "                # reset the s3 data source for tracks data\n",
    "                old_source = node['parameters']['dataset_definition']['s3ExecutionContext']['s3Uri']\n",
    "                print(\"Changed {} to {}\".format(old_source, tracks_data_source))\n",
    "                node['parameters']['dataset_definition']['s3ExecutionContext']['s3Uri'] = tracks_data_source\n",
    "            elif node['parameters']['dataset_definition']['name'] == 'ratings.csv':\n",
    "                # reset the s3 data source for ratings data\n",
    "                old_source = node['parameters']['dataset_definition']['s3ExecutionContext']['s3Uri']\n",
    "                print(\"Changed {} to {}\".format(old_source, ratings_data_source))\n",
    "                node['parameters']['dataset_definition']['s3ExecutionContext']['s3Uri'] = ratings_data_source\n",
    "        except:\n",
    "            continue\n",
    "    # write out the updated json flow file\n",
    "    with open(flow_path, 'w') as outfile:\n",
    "        json.dump(flow, outfile)\n",
    "    \n",
    "    return flow"
   ]
  },
  {
   "cell_type": "markdown",
   "metadata": {},
   "source": [
    "<a id='get-the-data'></a>\n",
    "\n",
    "## Prereqs: Get Data \n",
    "\n",
    "##### [back to top](#00-nb)\n",
    "\n",
    "----\n",
    "\n",
    "Here we will download the music data from a public S3 bucket that we'll be using for this demo and uploads it to your default S3 bucket that was created for you when you initially created a SageMaker Studio workspace. "
   ]
  },
  {
   "cell_type": "code",
   "execution_count": 24,
   "metadata": {},
   "outputs": [],
   "source": [
    "# public S3 bucket that contains our music data\n",
    "s3_bucket_music_data = \"s3://sagemaker-sample-files/datasets/tabular/synthetic-music\""
   ]
  },
  {
   "cell_type": "code",
   "execution_count": 25,
   "metadata": {},
   "outputs": [
    {
     "name": "stdout",
     "output_type": "stream",
     "text": [
      "Uploading tracks.csv to s3://sagemaker-us-east-2-738335684114/music-recommendation/tracks.csv\n",
      "\n",
      "Uploading ratings.csv to s3://sagemaker-us-east-2-738335684114/music-recommendation/ratings.csv\n",
      "\n",
      "['s3://sagemaker-us-east-2-738335684114/music-recommendation/tracks.csv', 's3://sagemaker-us-east-2-738335684114/music-recommendation/ratings.csv']\n"
     ]
    }
   ],
   "source": [
    "new_data_paths = get_data([f\"{s3_bucket_music_data}/tracks.csv\", f\"{s3_bucket_music_data}/ratings.csv\"], bucket, sample_data=0.70)\n",
    "print(new_data_paths)"
   ]
  },
  {
   "cell_type": "code",
   "execution_count": 26,
   "metadata": {},
   "outputs": [
    {
     "name": "stdout",
     "output_type": "stream",
     "text": [
      "Updating Params : \n",
      "\n",
      "{'ratings_data_source': 's3://sagemaker-us-east-2-738335684114/music-recommendation/ratings.csv',\n",
      " 'tracks_data_source': 's3://sagemaker-us-east-2-738335684114/music-recommendation/tracks.csv'}\n"
     ]
    }
   ],
   "source": [
    "# these are the new file paths located on your SageMaker Studio default s3 storage bucket\n",
    "tracks_data_source = f's3://{bucket}/{prefix}/tracks.csv'\n",
    "ratings_data_source = f's3://{bucket}/{prefix}/ratings.csv'\n",
    "\n",
    "ps.add({'tracks_data_source': tracks_data_source, 'ratings_data_source': ratings_data_source}, namespace='music-rec')"
   ]
  },
  {
   "cell_type": "markdown",
   "metadata": {},
   "source": [
    "### Upload pretrained model"
   ]
  },
  {
   "cell_type": "code",
   "execution_count": 27,
   "metadata": {},
   "outputs": [
    {
     "name": "stdout",
     "output_type": "stream",
     "text": [
      "Uploading ./model/model.tar.gz to sagemaker-us-east-2-738335684114/music-recommendation/model.tar.gz\n",
      "\n",
      "Updating Params : \n",
      "\n",
      "{'pretrained_model_path': 's://sagemaker-us-east-2-738335684114/music-recommendation/model.tar.gz'}\n",
      "date and time = 05/08/2021 04:57:23\n",
      "Updating Params : \n",
      "\n",
      "{'__timestamp': '05/08/2021 04:57:23'}\n",
      "Storing : \n",
      "\n",
      "{'music-rec': {'__timestamp': '05/08/2021 04:57:23',\n",
      "               'bucket': 'sagemaker-us-east-2-738335684114',\n",
      "               'prefix': 'music-recommendation',\n",
      "               'pretrained_model_path': 's://sagemaker-us-east-2-738335684114/music-recommendation/model.tar.gz',\n",
      "               'ratings_data_source': 's3://sagemaker-us-east-2-738335684114/music-recommendation/ratings.csv',\n",
      "               'tracks_data_source': 's3://sagemaker-us-east-2-738335684114/music-recommendation/tracks.csv'}}\n"
     ]
    }
   ],
   "source": [
    "pretrained_model_path = get_model('./model/model.tar.gz', bucket)\n",
    "\n",
    "ps.add({'pretrained_model_path': pretrained_model_path}, namespace='music-rec')\n",
    "ps.store()"
   ]
  },
  {
   "cell_type": "markdown",
   "metadata": {},
   "source": [
    "<a id='update-data-sources'></a>\n",
    "\n",
    "## Update the data source in the `.flow` file\n",
    "\n",
    "##### [back to top](#00-nb)\n",
    "\n",
    "----\n",
    "The `01_music_datapred.flow` file is a JSON file containing instructions for where to find your data sources and how to transform the data. We'll be updating the object telling Data Wrangler where to find the input data on S3. We will set this to your default S3 bucket. With this update to the `.flow` file it now points to your new S3 bucket as the data source used by SageMaker Data Wrangler.\n",
    "\n",
    "Make sure the `.flow` file is closed before running this next step or it won't update the new s3 file locations in the file"
   ]
  },
  {
   "cell_type": "code",
   "execution_count": 28,
   "metadata": {
    "scrolled": true
   },
   "outputs": [
    {
     "name": "stdout",
     "output_type": "stream",
     "text": [
      "Changed s3://sagemaker-us-east-2-738335684114/music-recommendation/tracks.csv to s3://sagemaker-us-east-2-738335684114/music-recommendation/tracks.csv\n",
      "Changed s3://sagemaker-us-east-2-738335684114/music-recommendation/ratings.csv to s3://sagemaker-us-east-2-738335684114/music-recommendation/ratings.csv\n"
     ]
    },
    {
     "data": {
      "text/plain": [
       "{'metadata': {'version': 1, 'disable_limits': False},\n",
       " 'nodes': [{'node_id': '5c9d4f98-dd8a-4b74-89ad-735638aa7fe6',\n",
       "   'type': 'SOURCE',\n",
       "   'operator': 'sagemaker.s3_source_0.1',\n",
       "   'parameters': {'dataset_definition': {'__typename': 'S3CreateDatasetDefinitionOutput',\n",
       "     'datasetSourceType': 'S3',\n",
       "     'name': 'tracks.csv',\n",
       "     'description': None,\n",
       "     's3ExecutionContext': {'__typename': 'S3ExecutionContext',\n",
       "      's3Uri': 's3://sagemaker-us-east-2-738335684114/music-recommendation/tracks.csv',\n",
       "      's3ContentType': 'csv',\n",
       "      's3HasHeader': True}}},\n",
       "   'inputs': [],\n",
       "   'outputs': [{'name': 'default',\n",
       "     'sampling': {'sampling_method': 'sample_by_limit',\n",
       "      'limit_rows': 50000}}]},\n",
       "  {'node_id': 'd6154703-6fe5-4501-bf0a-568d2ef32974',\n",
       "   'type': 'TRANSFORM',\n",
       "   'operator': 'sagemaker.spark.infer_and_cast_type_0.1',\n",
       "   'parameters': {},\n",
       "   'trained_parameters': {'schema': {'trackId': 'string',\n",
       "     'length': 'float',\n",
       "     'energy': 'float',\n",
       "     'acousticness': 'float',\n",
       "     'valence': 'float',\n",
       "     'speechiness': 'float',\n",
       "     'instrumentalness': 'float',\n",
       "     'liveness': 'float',\n",
       "     'tempo': 'float',\n",
       "     'genre': 'string'}},\n",
       "   'inputs': [{'name': 'default',\n",
       "     'node_id': '5c9d4f98-dd8a-4b74-89ad-735638aa7fe6',\n",
       "     'output_name': 'default'}],\n",
       "   'outputs': [{'name': 'default'}]},\n",
       "  {'node_id': '44bd21fc-7685-4a3c-acfe-42740edd99cb',\n",
       "   'type': 'TRANSFORM',\n",
       "   'operator': 'sagemaker.spark.encode_categorical_0.1',\n",
       "   'parameters': {'operator': 'One-hot encode',\n",
       "    'one_hot_encode_parameters': {'invalid_handling_strategy': 'Keep',\n",
       "     'drop_last': False,\n",
       "     'output_style': 'Columns',\n",
       "     'input_column': 'genre'},\n",
       "    'ordinal_encode_parameters': {'invalid_handling_strategy': 'Replace with NaN'}},\n",
       "   'trained_parameters': {'one_hot_encode_parameters': {'_hash': -1767228197713558300,\n",
       "     'string_indexer_model': 'P)h>@6aWAK2mr#H-BPFL`-k5E003hF000vJ003=ebYWy+bYU-WVRCdWFfcGMFny29PQx$|MfZG$*Qw=}G-|qqO&3)wf!IbvJV~wk#n?uaD*w(9BqWevXC2>rX67n-3n_`M2sBEF(4SDI2y~Xt$^ju4Liv!%_;Keoz9H>{Mk^|jjl-0|MX_BrtGaF1O0An!TZy^<gp^G1Y`&FBss*@rzfjyOMl<}O?CNH-e6H1|ZideY_rdLf%~x>(uPyHUE7-YsMvNRWK9+nJERzvEA)`?8H_PZ^*Yk6#gvJ4i&BuSFNEC<_Y2NBU8tL&8k$(olmx8{(++*s04f*?quKUV~X}b9UP)h>@6aWAK2mr#H-BJ$B-DM5{000aC000;O003=ebYWy+bYU+paA9(EEif=JFfcA-a$`#_N@ieSU}9+h{d_q9P)h>@6aWAK2mr&I-BKPFeOA^1007DY002k;003lRbYU-WVRCdWFfcGMFfBD?GhsI|G&U_XG&V9VG%_?aEnzcaH7z(eW->BlIbk_vIW#R}FfcGKb8ca9aCt6pVRCVGWps^F(Q4Z;6qVK330)pGh=L7%2!@mvJTIP8F9~~T$HpjQgs_Lf7)7?_)I^qDNp49?{$XFRhdq`3$bMlD`<Tf|x^*3cy~y{TbFQw=!PBFej{y3iq3@cDI;u2~VTWLUXU2|A{g_rn007vHu1@{t>n?z*=;#e~zAEUVslG3Yib=k#6>qT2m}a{t`08p$_39EsYd$3NIVSp}Pq=I;a9Wh7vm##Xs`@1*vE&8I;(C0&4nd2)Zi^E0#i@wTNRAN%htPaLaYU#%;v6p#L<Tr)m<^f<xuKhclAJJkpF-{aZ?X?S7h1Mu@3m~yw)()Z-rv1<J#;Jnqd~CS>3)IT&v38x{9Znmt#SjXPNtSXV7aDQ@VSRetPFT-FWv>=A}g4w2j0LN0Q2B4g*d04D$Xk+JziXTIgvQQ5}V(&Yez0i;!GSNc@;~?b<&K`L^zWV*AByZP2KUK_>KP89NxlPJMaF3t#@T?uHd*}5@$@jttfRS>IG!=50I$_N0e*;*SWQzcCA()SHL{k8ho7d-Zqh*@A(7I@9jrbMw8wk9Vh89NJyGSqfweXOGjZCCSeec{n7Ag5Dd~`7$xHa%eGbGPgLwv^%wsHP)h>@6aWAK2mr&I-BQQ!#hMZT000mG002z@003lRbYU+paA9(EEif=JFfc7OWHVtmF*G(UG&D9cEi^JTG%aB>Vl^!|IA$_3WI16uWjQo0V=yo<E^}^SaBz7paA9(Bb!BueV{&6lE=p!#U|?dXQi*Rr@3|)*08mQ-0u%!j000080K%KyQm5zphu;7I0Am3F022TJ00000000000HlEc0001OWprU=VRT_HaA9(EEif=JFfdR{0Rj{Q6aWAK2mr#H-BJ$B-DM5{000aC000;O0000000000005+c5CH%HZDn*}WMOn+FD`Ila&#>)FfcGME@N_IP)h*<6ay3h000O8!<*ew9u|F8)&T$j$^rlYNB{r;0000000000q=8fc003lRbYU-WVRCdWFfcGMFfBD?GhsI|G&U_XG&V9VG%_?aEnzcaH7z(eW->BlIbk_vIW#R}FfcGKb8ca9aCt6pVRCVGWpq$W0Rj{Q6aWAK2mr&I-BQQ!#hMZT000mG002z@0000000000005+ckOKe!WMOn+FD`Ila&#>)FfcGMEj45_VK*@}HZ3$XHZm<VGBh+TVKZViEjT!4GBRX2VL4?vG%aH=FfcB2Zeeh6c`k5aa&dKKbS`6ZV^B*41^@s600aO80C)ia01X5H0000',\n",
       "     'one_hot_encoder_model': 'P)h>@6aWAK2mr&I-BQq6*~ioX003zL000vJ003=ebYWy+bYU-WVRCdWFfcGMFm;YSPXjRwhIf93=WCRs?NxUxLTV){m{=oo@wF%NCC6c)>VGE`fdrz9hu40e$0rya<_rTwJ}68$9!ced{HnZD6QL9)^%!Uy<vxtj67TD9(16UIvY<~ewB7Bh@7G#)UAt=F(tjq-a}1TdR9fi;`uDKVwO3|a!(T|VnR<NDYudESzMj-R`aM?i2`tC-fLUOe&}C{M7D+|!qN@}m<dYerGoR!+{4BonnjSG&N4xNb?qVk9$Z&4J(uBpy)4wv|^2c@kV`IMVuFK9hA5cpJ1QY-O00;oXo83~^G74G_0000C0000O0001OWprU=VRT_HE^uLTbS*G2FfcGKV{&6lE=p!#U|?c6elzL<08mQ<1QY-O00;oXo840OsOa2+0RR9n0ssI=0001FVRT_HaA9(EEif=JFfc7QWoBeFH)S?0GGsC|Ei^VZWG!JbHDWC_IW#miIXPovGi72eV=yo<E^}^SaBz7paA9(Bb!BvYQeA7?Fcej^EG?{k=!1+5eh7kw6kK7?iR*+uv~OjMQP#edQj}Qg%w#)}l#MhE>}T``_J{Q5qh)0<2`=~JoO{m|x;+0L6GRy4gam`rBCUWnKOuxR)<fODA~*+U80-hQU@=-{3HHBU?AeJhKkw}Lhb#rbsE_IXSU7oKoB37oAT6|Sp?;G#bzvO<2tGt~M`~Hh${`Q?fgf~s188=LT7LGPye7SZ3HGq}=>2JQc2EDK)em4F7_+K8dKmd3rM0=|Vj@5!U+d++q_IU^(T@p_c!cQDKL|V39GvM)I&SLUyp&Gl!U_7+STHxANH%2Fnc3K}kf}oI+_K@#f>okimENrZhz;Y7DU1<wNN-oW-eijkNYX%lTvtvMmHjr;nhllERxU$UK_o^RpfFg5>{SyqUM_E!h<@2BJ}ymryJ9=$am3?xcQh+>-j38DSG^>cN{zBi<tHjj(=<<$bP#8~&q)%gUOLJLM}82%3qCgxx`e;-0#Hi>1QY-O00;oXo840IUmJT80000G0000@0001FVRT_HE^uLTbS*G2FfcGJH)UpIG&f~7Eiz;>G%YkXHe@YfGBsi?H90giH90wBV>4x9En_e+FfMa$VQ_GHE^uLTadl;ME@N_IOD;-gU|?WkxaGgQ{M<h)GXPLa0Rj{Q6aWAK2mr&I-BQq6*~ioX003zL000vJ0000000000005+c00000ZDn*}WMOn+FK}UUbS*G2FfcGsO928D0~7!N00;oXo83~^G74G_0000C0000O00000000000001_fdv5o0BvP-VPs)+VJ|LlVRCdWFfcGMFfL<qV^B*00u%!j000080K=QzQue6m+=2lB05Ado07w7;00000000000HlFQ0RRAGVRT_HaA9(EEif=JFfc7QWoBeFH)S?0GGsC|Ei^VZWG!JbHDWC_IW#miIXPovGi72eV=yo<E^}^SaBz7paA9(Bb!Bu=O928D0~7!N00;oXo840IUmJT80000G0000@00000000000001_fiVLB0AyiwVJ|LlVRCdWFfcGMFfBJ_W@I!sWi~A`WHK}@G&VM5EnzY>Vl6c}G&D6iIb&lpWnwL3FfcGKb8ca9aCt6pVRCVGWpplMa$`_S1qJ{B000C41ORve006E700000'}},\n",
       "   'inputs': [{'name': 'df',\n",
       "     'node_id': 'd6154703-6fe5-4501-bf0a-568d2ef32974',\n",
       "     'output_name': 'default'}],\n",
       "   'outputs': [{'name': 'default'}]},\n",
       "  {'node_id': '9a4e227d-222b-4067-a81a-605faf001547',\n",
       "   'type': 'TRANSFORM',\n",
       "   'operator': 'sagemaker.spark.custom_pyspark_0.1',\n",
       "   'parameters': {'code': \"# Table is available as variable `df`\\nfrom pyspark.sql import functions as F\\ndf = df.withColumn('EventTime', F.unix_timestamp(F.current_timestamp()))\"},\n",
       "   'inputs': [{'name': 'df',\n",
       "     'node_id': '44bd21fc-7685-4a3c-acfe-42740edd99cb',\n",
       "     'output_name': 'default'}],\n",
       "   'outputs': [{'name': 'default'}]},\n",
       "  {'node_id': 'd65f643a-9fb9-4b66-bf0d-2b32ce881dc5',\n",
       "   'type': 'TRANSFORM',\n",
       "   'operator': 'sagemaker.spark.cast_single_data_type_0.1',\n",
       "   'parameters': {'column': 'EventTime',\n",
       "    'original_data_type': 'Long',\n",
       "    'data_type': 'float'},\n",
       "   'inputs': [{'name': 'df',\n",
       "     'node_id': '9a4e227d-222b-4067-a81a-605faf001547',\n",
       "     'output_name': 'default'}],\n",
       "   'outputs': [{'name': 'default'}]},\n",
       "  {'node_id': '19ad8e80-2002-4ee9-9753-fe9a384b1166',\n",
       "   'type': 'TRANSFORM',\n",
       "   'operator': 'sagemaker.spark.custom_formula_0.1',\n",
       "   'parameters': {'output_column': 'danceability',\n",
       "    'formula': '0.3*valence + 0.1*liveness + 0.1*energy'},\n",
       "   'inputs': [{'name': 'df',\n",
       "     'node_id': 'd65f643a-9fb9-4b66-bf0d-2b32ce881dc5',\n",
       "     'output_name': 'default'}],\n",
       "   'outputs': [{'name': 'default'}]},\n",
       "  {'node_id': '814830ce-ab4d-4193-90bb-8b95fb375da0',\n",
       "   'type': 'SOURCE',\n",
       "   'operator': 'sagemaker.s3_source_0.1',\n",
       "   'parameters': {'dataset_definition': {'__typename': 'S3CreateDatasetDefinitionOutput',\n",
       "     'datasetSourceType': 'S3',\n",
       "     'name': 'ratings.csv',\n",
       "     'description': None,\n",
       "     's3ExecutionContext': {'__typename': 'S3ExecutionContext',\n",
       "      's3Uri': 's3://sagemaker-us-east-2-738335684114/music-recommendation/ratings.csv',\n",
       "      's3ContentType': 'csv',\n",
       "      's3HasHeader': True}}},\n",
       "   'inputs': [],\n",
       "   'outputs': [{'name': 'default',\n",
       "     'sampling': {'sampling_method': 'sample_by_limit',\n",
       "      'limit_rows': 50000}}]},\n",
       "  {'node_id': '9c0d5850-2331-4f2c-b099-f6e0f8d42848',\n",
       "   'type': 'TRANSFORM',\n",
       "   'operator': 'sagemaker.spark.infer_and_cast_type_0.1',\n",
       "   'parameters': {},\n",
       "   'trained_parameters': {'schema': {'ratingEventId': 'string',\n",
       "     'ts': 'long',\n",
       "     'userId': 'long',\n",
       "     'trackId': 'string',\n",
       "     'sessionId': 'long',\n",
       "     'itemInSession': 'long',\n",
       "     'Rating': 'float'}},\n",
       "   'inputs': [{'name': 'default',\n",
       "     'node_id': '814830ce-ab4d-4193-90bb-8b95fb375da0',\n",
       "     'output_name': 'default'}],\n",
       "   'outputs': [{'name': 'default'}]},\n",
       "  {'node_id': 'a88a70f8-2933-4cef-ba8f-8617ae2d1748',\n",
       "   'type': 'TRANSFORM',\n",
       "   'operator': 'sagemaker.spark.custom_pyspark_0.1',\n",
       "   'parameters': {'code': \"# Table is available as variable `df`\\nfrom pyspark.sql import functions as F\\ndf = df.withColumn('EventTime', F.unix_timestamp(F.current_timestamp()))\"},\n",
       "   'inputs': [{'name': 'df',\n",
       "     'node_id': '9c0d5850-2331-4f2c-b099-f6e0f8d42848',\n",
       "     'output_name': 'default'}],\n",
       "   'outputs': [{'name': 'default'}]},\n",
       "  {'node_id': '9a283380-91ca-478e-be99-6ba3bf57c680',\n",
       "   'type': 'TRANSFORM',\n",
       "   'operator': 'sagemaker.spark.cast_single_data_type_0.1',\n",
       "   'parameters': {'column': 'EventTime',\n",
       "    'original_data_type': 'Long',\n",
       "    'data_type': 'float'},\n",
       "   'inputs': [{'name': 'df',\n",
       "     'node_id': 'a88a70f8-2933-4cef-ba8f-8617ae2d1748',\n",
       "     'output_name': 'default'}],\n",
       "   'outputs': [{'name': 'default'}]},\n",
       "  {'node_id': 'd90b4efc-1a47-4971-85f9-c65aedbff3a2',\n",
       "   'type': 'TRANSFORM',\n",
       "   'operator': 'sagemaker.spark.join_tables_0.1',\n",
       "   'parameters': {'left_column': 'trackId',\n",
       "    'right_column': 'trackId',\n",
       "    'join_type': 'inner'},\n",
       "   'inputs': [{'name': 'df',\n",
       "     'node_id': '19ad8e80-2002-4ee9-9753-fe9a384b1166',\n",
       "     'output_name': 'default'},\n",
       "    {'name': 'df',\n",
       "     'node_id': '9a283380-91ca-478e-be99-6ba3bf57c680',\n",
       "     'output_name': 'default'}],\n",
       "   'outputs': [{'name': 'default'}]},\n",
       "  {'node_id': 'fe586afa-70ed-4f81-b1a7-2635dacd48c4',\n",
       "   'type': 'TRANSFORM',\n",
       "   'operator': 'sagemaker.spark.manage_columns_0.1',\n",
       "   'parameters': {'operator': 'Drop column',\n",
       "    'drop_column_parameters': {'column_to_drop': 'trackId_1'}},\n",
       "   'inputs': [{'name': 'df',\n",
       "     'node_id': 'd90b4efc-1a47-4971-85f9-c65aedbff3a2',\n",
       "     'output_name': 'default'}],\n",
       "   'outputs': [{'name': 'default'}]},\n",
       "  {'node_id': '16e87932-15a9-4c7f-b880-c7a767df5b40',\n",
       "   'type': 'TRANSFORM',\n",
       "   'operator': 'sagemaker.spark.manage_columns_0.1',\n",
       "   'parameters': {'operator': 'Rename column',\n",
       "    'rename_column_parameters': {'input_column': 'trackId_0',\n",
       "     'new_name': 'trackId'},\n",
       "    'drop_column_parameters': {}},\n",
       "   'inputs': [{'name': 'df',\n",
       "     'node_id': 'fe586afa-70ed-4f81-b1a7-2635dacd48c4',\n",
       "     'output_name': 'default'}],\n",
       "   'outputs': [{'name': 'default'}]},\n",
       "  {'node_id': 'f35a528b-19a2-4fcd-911e-03a146ebac09',\n",
       "   'type': 'TRANSFORM',\n",
       "   'operator': 'sagemaker.spark.custom_pyspark_0.1',\n",
       "   'parameters': {'code': '# Table is available as variable `df`\\nimport pyspark.sql.functions as F\\n# numeric features\\nnum_feat_cols = [\\'energy\\', \\'acousticness\\', \\'valence\\', \\'speechiness\\', \\'instrumentalness\\', \\'liveness\\', \\'tempo\\', \\'danceability\\', \\'genre_Latin\\', \\'genre_Folk\\',  \\'genre_Blues\\', \\'genre_Rap\\', \\'genre_Reggae\\', \\'genre_Jazz\\', \\'genre_RnB\\', \\'genre_Country\\', \\'genre_Electronic\\', \\'genre_Pop_Rock\\']\\n# calculate averages for 5-star ratings\\nagg_obj = [F.avg(feat_col).alias(feat_col+\"_5star\") for feat_col in num_feat_cols]\\ndf = df.filter(F.col(\\'Rating\\')==5).groupBy(\\'userId\\').agg(*agg_obj)\\ndf = df.withColumn(\\'EventTime\\', F.unix_timestamp(F.current_timestamp()))'},\n",
       "   'inputs': [{'name': 'df',\n",
       "     'node_id': '16e87932-15a9-4c7f-b880-c7a767df5b40',\n",
       "     'output_name': 'default'}],\n",
       "   'outputs': [{'name': 'default'}]},\n",
       "  {'node_id': '7a6dad19-2c80-43e3-b03d-ec23c3842ae9',\n",
       "   'type': 'TRANSFORM',\n",
       "   'operator': 'sagemaker.spark.cast_single_data_type_0.1',\n",
       "   'parameters': {'column': 'EventTime',\n",
       "    'original_data_type': 'Long',\n",
       "    'data_type': 'float'},\n",
       "   'inputs': [{'name': 'df',\n",
       "     'node_id': 'f35a528b-19a2-4fcd-911e-03a146ebac09',\n",
       "     'output_name': 'default'}],\n",
       "   'outputs': [{'name': 'default'}]}]}"
      ]
     },
     "execution_count": 28,
     "metadata": {},
     "output_type": "execute_result"
    }
   ],
   "source": [
    "update_data_sources('01_music_dataprep.flow', tracks_data_source, ratings_data_source)"
   ]
  },
  {
   "cell_type": "markdown",
   "metadata": {},
   "source": [
    "<a id='explore-data'></a>\n",
    "\n",
    "## Explore the Data\n",
    "\n",
    "\n",
    "##### [back to top](#00-nb)\n",
    "\n",
    "\n",
    "----"
   ]
  },
  {
   "cell_type": "code",
   "execution_count": 29,
   "metadata": {},
   "outputs": [],
   "source": [
    "tracks = pd.read_csv('./data/tracks.csv')\n",
    "ratings = pd.read_csv('./data/ratings.csv')"
   ]
  },
  {
   "cell_type": "code",
   "execution_count": 30,
   "metadata": {},
   "outputs": [
    {
     "data": {
      "text/html": [
       "<div>\n",
       "<style scoped>\n",
       "    .dataframe tbody tr th:only-of-type {\n",
       "        vertical-align: middle;\n",
       "    }\n",
       "\n",
       "    .dataframe tbody tr th {\n",
       "        vertical-align: top;\n",
       "    }\n",
       "\n",
       "    .dataframe thead th {\n",
       "        text-align: right;\n",
       "    }\n",
       "</style>\n",
       "<table border=\"1\" class=\"dataframe\">\n",
       "  <thead>\n",
       "    <tr style=\"text-align: right;\">\n",
       "      <th></th>\n",
       "      <th>trackId</th>\n",
       "      <th>length</th>\n",
       "      <th>energy</th>\n",
       "      <th>acousticness</th>\n",
       "      <th>valence</th>\n",
       "      <th>speechiness</th>\n",
       "      <th>instrumentalness</th>\n",
       "      <th>liveness</th>\n",
       "      <th>tempo</th>\n",
       "      <th>genre</th>\n",
       "    </tr>\n",
       "  </thead>\n",
       "  <tbody>\n",
       "    <tr>\n",
       "      <th>0</th>\n",
       "      <td>437f4eff-72ca-40a8-a707-a7c83ed89df6</td>\n",
       "      <td>217.0</td>\n",
       "      <td>0.809275</td>\n",
       "      <td>0.000001</td>\n",
       "      <td>0.461382</td>\n",
       "      <td>0.022800</td>\n",
       "      <td>0.010281</td>\n",
       "      <td>0.095430</td>\n",
       "      <td>74.877790</td>\n",
       "      <td>Blues</td>\n",
       "    </tr>\n",
       "    <tr>\n",
       "      <th>1</th>\n",
       "      <td>945d237e-b244-4729-a11b-4e977caa3d24</td>\n",
       "      <td>197.0</td>\n",
       "      <td>0.895554</td>\n",
       "      <td>0.001546</td>\n",
       "      <td>0.237365</td>\n",
       "      <td>0.082589</td>\n",
       "      <td>0.000000</td>\n",
       "      <td>0.163591</td>\n",
       "      <td>142.139656</td>\n",
       "      <td>Country</td>\n",
       "    </tr>\n",
       "    <tr>\n",
       "      <th>2</th>\n",
       "      <td>ad177469-057b-4195-924b-eb74b66ca76b</td>\n",
       "      <td>232.0</td>\n",
       "      <td>0.062573</td>\n",
       "      <td>0.916556</td>\n",
       "      <td>0.650016</td>\n",
       "      <td>0.022800</td>\n",
       "      <td>0.000000</td>\n",
       "      <td>0.114016</td>\n",
       "      <td>154.580147</td>\n",
       "      <td>Folk</td>\n",
       "    </tr>\n",
       "    <tr>\n",
       "      <th>3</th>\n",
       "      <td>1c698d0a-730b-4939-8335-e70c369d6a1c</td>\n",
       "      <td>184.0</td>\n",
       "      <td>0.684203</td>\n",
       "      <td>0.023768</td>\n",
       "      <td>0.294164</td>\n",
       "      <td>0.111122</td>\n",
       "      <td>0.567860</td>\n",
       "      <td>0.306163</td>\n",
       "      <td>93.998352</td>\n",
       "      <td>Jazz</td>\n",
       "    </tr>\n",
       "    <tr>\n",
       "      <th>4</th>\n",
       "      <td>b42b0194-d77c-4abb-984c-e9e0e5e37751</td>\n",
       "      <td>291.0</td>\n",
       "      <td>0.110437</td>\n",
       "      <td>0.916875</td>\n",
       "      <td>0.666779</td>\n",
       "      <td>0.086729</td>\n",
       "      <td>0.000000</td>\n",
       "      <td>0.277215</td>\n",
       "      <td>162.672978</td>\n",
       "      <td>RnB</td>\n",
       "    </tr>\n",
       "  </tbody>\n",
       "</table>\n",
       "</div>"
      ],
      "text/plain": [
       "                                trackId  length    energy  acousticness  \\\n",
       "0  437f4eff-72ca-40a8-a707-a7c83ed89df6   217.0  0.809275      0.000001   \n",
       "1  945d237e-b244-4729-a11b-4e977caa3d24   197.0  0.895554      0.001546   \n",
       "2  ad177469-057b-4195-924b-eb74b66ca76b   232.0  0.062573      0.916556   \n",
       "3  1c698d0a-730b-4939-8335-e70c369d6a1c   184.0  0.684203      0.023768   \n",
       "4  b42b0194-d77c-4abb-984c-e9e0e5e37751   291.0  0.110437      0.916875   \n",
       "\n",
       "    valence  speechiness  instrumentalness  liveness       tempo    genre  \n",
       "0  0.461382     0.022800          0.010281  0.095430   74.877790    Blues  \n",
       "1  0.237365     0.082589          0.000000  0.163591  142.139656  Country  \n",
       "2  0.650016     0.022800          0.000000  0.114016  154.580147     Folk  \n",
       "3  0.294164     0.111122          0.567860  0.306163   93.998352     Jazz  \n",
       "4  0.666779     0.086729          0.000000  0.277215  162.672978      RnB  "
      ]
     },
     "execution_count": 30,
     "metadata": {},
     "output_type": "execute_result"
    }
   ],
   "source": [
    "tracks.head()"
   ]
  },
  {
   "cell_type": "code",
   "execution_count": 31,
   "metadata": {},
   "outputs": [
    {
     "data": {
      "text/html": [
       "<div>\n",
       "<style scoped>\n",
       "    .dataframe tbody tr th:only-of-type {\n",
       "        vertical-align: middle;\n",
       "    }\n",
       "\n",
       "    .dataframe tbody tr th {\n",
       "        vertical-align: top;\n",
       "    }\n",
       "\n",
       "    .dataframe thead th {\n",
       "        text-align: right;\n",
       "    }\n",
       "</style>\n",
       "<table border=\"1\" class=\"dataframe\">\n",
       "  <thead>\n",
       "    <tr style=\"text-align: right;\">\n",
       "      <th></th>\n",
       "      <th>ratingEventId</th>\n",
       "      <th>ts</th>\n",
       "      <th>userId</th>\n",
       "      <th>trackId</th>\n",
       "      <th>sessionId</th>\n",
       "      <th>itemInSession</th>\n",
       "      <th>Rating</th>\n",
       "    </tr>\n",
       "  </thead>\n",
       "  <tbody>\n",
       "    <tr>\n",
       "      <th>0</th>\n",
       "      <td>eefac3aa-ed20-4534-8a19-9dae58b5fec5</td>\n",
       "      <td>1576699232</td>\n",
       "      <td>11117</td>\n",
       "      <td>5c380560-c26a-4f7d-9953-de42c7119dd6</td>\n",
       "      <td>3989</td>\n",
       "      <td>108</td>\n",
       "      <td>4.0</td>\n",
       "    </tr>\n",
       "    <tr>\n",
       "      <th>1</th>\n",
       "      <td>9c872649-a07f-42dc-81a9-7f7c70c6ed0c</td>\n",
       "      <td>1582573110</td>\n",
       "      <td>11115</td>\n",
       "      <td>d36a22a9-f298-4176-a5a4-55d2e52ec6a4</td>\n",
       "      <td>7724</td>\n",
       "      <td>36</td>\n",
       "      <td>4.0</td>\n",
       "    </tr>\n",
       "    <tr>\n",
       "      <th>2</th>\n",
       "      <td>6a0d5440-995e-41df-87a8-8d1ff0eb397a</td>\n",
       "      <td>1581532532</td>\n",
       "      <td>11244</td>\n",
       "      <td>d5548f4c-3e3d-4f04-b3ff-f3343fd04edf</td>\n",
       "      <td>6016</td>\n",
       "      <td>26</td>\n",
       "      <td>1.0</td>\n",
       "    </tr>\n",
       "    <tr>\n",
       "      <th>3</th>\n",
       "      <td>54b5a024-3396-4137-b7c5-967d461efe99</td>\n",
       "      <td>1578587789</td>\n",
       "      <td>11099</td>\n",
       "      <td>a4bf7cc5-4e9b-4bb5-a27a-8331ce4eb965</td>\n",
       "      <td>5288</td>\n",
       "      <td>33</td>\n",
       "      <td>5.0</td>\n",
       "    </tr>\n",
       "    <tr>\n",
       "      <th>4</th>\n",
       "      <td>1929bca3-061a-444c-9538-3de6e75d8eb8</td>\n",
       "      <td>1587720041</td>\n",
       "      <td>11017</td>\n",
       "      <td>53536f70-cad3-4233-a1d5-96b3da5a1fdb</td>\n",
       "      <td>10077</td>\n",
       "      <td>10</td>\n",
       "      <td>5.0</td>\n",
       "    </tr>\n",
       "  </tbody>\n",
       "</table>\n",
       "</div>"
      ],
      "text/plain": [
       "                          ratingEventId          ts  userId  \\\n",
       "0  eefac3aa-ed20-4534-8a19-9dae58b5fec5  1576699232   11117   \n",
       "1  9c872649-a07f-42dc-81a9-7f7c70c6ed0c  1582573110   11115   \n",
       "2  6a0d5440-995e-41df-87a8-8d1ff0eb397a  1581532532   11244   \n",
       "3  54b5a024-3396-4137-b7c5-967d461efe99  1578587789   11099   \n",
       "4  1929bca3-061a-444c-9538-3de6e75d8eb8  1587720041   11017   \n",
       "\n",
       "                                trackId  sessionId  itemInSession  Rating  \n",
       "0  5c380560-c26a-4f7d-9953-de42c7119dd6       3989            108     4.0  \n",
       "1  d36a22a9-f298-4176-a5a4-55d2e52ec6a4       7724             36     4.0  \n",
       "2  d5548f4c-3e3d-4f04-b3ff-f3343fd04edf       6016             26     1.0  \n",
       "3  a4bf7cc5-4e9b-4bb5-a27a-8331ce4eb965       5288             33     5.0  \n",
       "4  53536f70-cad3-4233-a1d5-96b3da5a1fdb      10077             10     5.0  "
      ]
     },
     "execution_count": 31,
     "metadata": {},
     "output_type": "execute_result"
    }
   ],
   "source": [
    "ratings.head()"
   ]
  },
  {
   "cell_type": "code",
   "execution_count": 32,
   "metadata": {},
   "outputs": [
    {
     "name": "stdout",
     "output_type": "stream",
     "text": [
      "98,418 different songs/tracks\n",
      "258 users\n",
      "490,000 user rating events\n"
     ]
    }
   ],
   "source": [
    "print(\"{:,} different songs/tracks\".format(tracks['trackId'].nunique()))\n",
    "print(\"{:,} users\".format(ratings['userId'].nunique()))\n",
    "print(\"{:,} user rating events\".format(ratings['ratingEventId'].nunique()))"
   ]
  },
  {
   "cell_type": "code",
   "execution_count": 33,
   "metadata": {},
   "outputs": [
    {
     "data": {
      "image/png": "[encoded data removed]",
      "text/plain": [
       "<Figure size 432x288 with 1 Axes>"
      ]
     },
     "metadata": {
      "needs_background": "light"
     },
     "output_type": "display_data"
    }
   ],
   "source": [
    "tracks.groupby('genre')['genre'].count().plot.bar(title=\"Tracks by Genre\");"
   ]
  },
  {
   "cell_type": "code",
   "execution_count": 34,
   "metadata": {},
   "outputs": [
    {
     "data": {
      "image/png": "[encoded data removed]",
      "text/plain": [
       "<Figure size 432x288 with 1 Axes>"
      ]
     },
     "metadata": {
      "needs_background": "light"
     },
     "output_type": "display_data"
    }
   ],
   "source": [
    "ratings[['ratingEventId','userId']].plot.hist(by='userId', bins=50, title=\"Distribution of # of Ratings by User\");"
   ]
  },
  {
   "cell_type": "markdown",
   "metadata": {},
   "source": [
    "Create some new data to ingest later"
   ]
  },
  {
   "cell_type": "code",
   "execution_count": 35,
   "metadata": {},
   "outputs": [],
   "source": [
    "tracks_new = tracks[:300]\n",
    "ratings_new = ratings[:1000]\n",
    "\n",
    "# export dataframes to csv\n",
    "tracks_new.to_csv('./data/tracks_new.csv', index=False)\n",
    "ratings_new.to_csv('./data/ratings_new.csv', index=False)"
   ]
  },
  {
   "cell_type": "code",
   "execution_count": 36,
   "metadata": {},
   "outputs": [],
   "source": [
    "s3_client.upload_file(Filename=\"./data/tracks_new.csv\", Bucket=bucket, Key=f'{prefix}/data/tracks_new.csv')\n",
    "s3_client.upload_file(Filename=\"./data/ratings_new.csv\", Bucket=bucket, Key=f'{prefix}/data/ratings_new.csv')"
   ]
  },
  {
   "cell_type": "markdown",
   "metadata": {},
   "source": [
    "----\n",
    "\n",
    "# Music Recommender Part 1: Data Prep using Data Wrangler\n",
    "\n",
    "After you completed running this notebook, you can open the Data Wrangler file `01_music_dataprep.flow`."
   ]
  }
 ],
 "metadata": {
  "instance_type": "ml.t3.medium",
  "kernelspec": {
   "display_name": "Python 3 (Data Science)",
   "language": "python",
   "name": "python3__SAGEMAKER_INTERNAL__arn:aws:sagemaker:us-east-2:429704687514:image/datascience-1.0"
  },
  "language_info": {
   "codemirror_mode": {
    "name": "ipython",
    "version": 3
   },
   "file_extension": ".py",
   "mimetype": "text/x-python",
   "name": "python",
   "nbconvert_exporter": "python",
   "pygments_lexer": "ipython3",
   "version": "3.7.10"
  }
 },
 "nbformat": 4,
 "nbformat_minor": 4
}
