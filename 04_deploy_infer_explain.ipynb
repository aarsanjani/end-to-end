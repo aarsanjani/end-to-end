{
 "cells": [
  {
   "cell_type": "markdown",
   "metadata": {},
   "source": [
    "<a id='04-nb'></a>\n",
    "\n",
    "# Music Recommender Part 4: Deploy Model & Inference using Online Feature Store\n",
    "\n",
    "----\n",
    "\n",
    "In this notebook, we'll deploy our chosen model as an endpoint so that we can make predictions/inferences against it. \n",
    "Under the hood the *model.deploy* function creates a model, an endpoint configuration and an endpoint. \n",
    "\n",
    "Then we'll make music recommendations for a single user by inferencing against our model. We'll query our Feature Store to get some data to use for inferencing and show you how [SageMaker Clarify](https://docs.aws.amazon.com/sagemaker/latest/dg/clarify-model-explainability.html) can explain which features were most useful in making the recommended music predictions using SHAP values.\n",
    "\n",
    "Amazon SageMaker Clarify provides tools to help explain how machine learning models make predictions. These tools can help ML modelers and developers and other internal stakeholders understand model characteristics as a whole prior to deployment and to debug predictions provided by the model after it's deployed. Transparency about how ML models arrive at their predictions is also critical to consumers and regulators who need to trust the model predictions if they are going to accept the decisions based on them.\n",
    "\n",
    "----\n",
    "### Contents\n",
    "- [Overview](00_overview_arch_data.ipynb)\n",
    "- [Part 1: Data Prep using Data Wrangler](01_music_dataprep.flow)\n",
    "- [Part 2a: Feature Store Creation - Tracks](02a_export_fg_tracks.ipynb)\n",
    "- [Part 2b: Feature Store Creation - User Preferences](02b_export_fg_5star_features.ipynb)\n",
    "- [Part 2c: Feature Store Creation - Ratings](02c_export_fg_ratings.ipynb)\n",
    "- [Part 3: Train Model with Debugger Hooks. Set Artifacts and Register Model.](03_train_model_lineage_registry_debugger.ipynb)\n",
    "- [Part 4: Deploy Model & Inference using Online Feature Store](04_deploy_inference_explainability.ipynb)\n",
    "    - [Deploy model](#04-deploy)\n",
    "    - [Create predictor](#04-predictor)\n",
    "    - [Infer new songs](#04-infer)\n",
    "    - [Explain model predictions](#04-explain)\n",
    "- [Part 5: Model Monitor](05_model_monitor.ipynb)\n",
    "- [Part 6: SageMaker Pipelines](06_pipeline.ipynb)\n",
    "- [Part 7: Resource Cleanup](07_clean_up.ipynb)"
   ]
  },
  {
   "cell_type": "code",
   "execution_count": 1,
   "metadata": {
    "scrolled": true
   },
   "outputs": [
    {
     "name": "stdout",
     "output_type": "stream",
     "text": [
      "/opt/conda/lib/python3.7/site-packages/secretstorage/dhcrypto.py:16: CryptographyDeprecationWarning: int_from_bytes is deprecated, use int.from_bytes instead\n",
      "  from cryptography.utils import int_from_bytes\n",
      "/opt/conda/lib/python3.7/site-packages/secretstorage/util.py:25: CryptographyDeprecationWarning: int_from_bytes is deprecated, use int.from_bytes instead\n",
      "  from cryptography.utils import int_from_bytes\n",
      "Requirement already satisfied: awswrangler in /opt/conda/lib/python3.7/site-packages (2.10.0)\n",
      "Requirement already satisfied: botocore<2.1.0,>=1.19.8 in /opt/conda/lib/python3.7/site-packages (from awswrangler) (1.21.14)\n",
      "Requirement already satisfied: numpy<2.1.0,>=1.18.0 in /opt/conda/lib/python3.7/site-packages (from awswrangler) (1.21.1)\n",
      "Requirement already satisfied: pyarrow<4.1.0,>=2.0.0 in /opt/conda/lib/python3.7/site-packages (from awswrangler) (4.0.1)\n",
      "Requirement already satisfied: pandas<2.1.0,>=1.1.0 in /opt/conda/lib/python3.7/site-packages (from awswrangler) (1.2.0)\n",
      "Requirement already satisfied: redshift-connector~=2.0.882 in /opt/conda/lib/python3.7/site-packages (from awswrangler) (2.0.884)\n",
      "Requirement already satisfied: pg8000<1.21.0,>=1.16.0 in /opt/conda/lib/python3.7/site-packages (from awswrangler) (1.20.0)\n",
      "Requirement already satisfied: openpyxl~=3.0.0 in /opt/conda/lib/python3.7/site-packages (from awswrangler) (3.0.3)\n",
      "Requirement already satisfied: boto3<2.1.0,>=1.16.8 in /opt/conda/lib/python3.7/site-packages (from awswrangler) (1.18.14)\n",
      "Requirement already satisfied: pymysql<1.1.0,>=0.9.0 in /opt/conda/lib/python3.7/site-packages (from awswrangler) (1.0.2)\n",
      "Requirement already satisfied: s3transfer<0.6.0,>=0.5.0 in /opt/conda/lib/python3.7/site-packages (from boto3<2.1.0,>=1.16.8->awswrangler) (0.5.0)\n",
      "Requirement already satisfied: jmespath<1.0.0,>=0.7.1 in /opt/conda/lib/python3.7/site-packages (from boto3<2.1.0,>=1.16.8->awswrangler) (0.10.0)\n",
      "Requirement already satisfied: python-dateutil<3.0.0,>=2.1 in /opt/conda/lib/python3.7/site-packages (from botocore<2.1.0,>=1.19.8->awswrangler) (2.8.1)\n",
      "Requirement already satisfied: urllib3<1.27,>=1.25.4 in /opt/conda/lib/python3.7/site-packages (from botocore<2.1.0,>=1.19.8->awswrangler) (1.26.6)\n",
      "Requirement already satisfied: jdcal in /opt/conda/lib/python3.7/site-packages (from openpyxl~=3.0.0->awswrangler) (1.4.1)\n",
      "Requirement already satisfied: et-xmlfile in /opt/conda/lib/python3.7/site-packages (from openpyxl~=3.0.0->awswrangler) (1.0.1)\n",
      "Requirement already satisfied: pytz>=2017.3 in /opt/conda/lib/python3.7/site-packages (from pandas<2.1.0,>=1.1.0->awswrangler) (2021.1)\n",
      "Requirement already satisfied: scramp>=1.4.0 in /opt/conda/lib/python3.7/site-packages (from pg8000<1.21.0,>=1.16.0->awswrangler) (1.4.0)\n",
      "Requirement already satisfied: six>=1.5 in /opt/conda/lib/python3.7/site-packages (from python-dateutil<3.0.0,>=2.1->botocore<2.1.0,>=1.19.8->awswrangler) (1.14.0)\n",
      "Requirement already satisfied: packaging in /opt/conda/lib/python3.7/site-packages (from redshift-connector~=2.0.882->awswrangler) (20.1)\n",
      "Requirement already satisfied: beautifulsoup4<5.0.0,>=4.7.0 in /opt/conda/lib/python3.7/site-packages (from redshift-connector~=2.0.882->awswrangler) (4.8.2)\n",
      "Requirement already satisfied: lxml>=4.6.2 in /opt/conda/lib/python3.7/site-packages (from redshift-connector~=2.0.882->awswrangler) (4.6.3)\n",
      "Requirement already satisfied: requests<2.25.2,>=2.23.0 in /opt/conda/lib/python3.7/site-packages (from redshift-connector~=2.0.882->awswrangler) (2.25.1)\n",
      "Requirement already satisfied: soupsieve>=1.2 in /opt/conda/lib/python3.7/site-packages (from beautifulsoup4<5.0.0,>=4.7.0->redshift-connector~=2.0.882->awswrangler) (1.9.5)\n",
      "Requirement already satisfied: idna<3,>=2.5 in /opt/conda/lib/python3.7/site-packages (from requests<2.25.2,>=2.23.0->redshift-connector~=2.0.882->awswrangler) (2.8)\n",
      "Requirement already satisfied: chardet<5,>=3.0.2 in /opt/conda/lib/python3.7/site-packages (from requests<2.25.2,>=2.23.0->redshift-connector~=2.0.882->awswrangler) (3.0.4)\n",
      "Requirement already satisfied: certifi>=2017.4.17 in /opt/conda/lib/python3.7/site-packages (from requests<2.25.2,>=2.23.0->redshift-connector~=2.0.882->awswrangler) (2021.5.30)\n",
      "Requirement already satisfied: asn1crypto==1.4.0 in /opt/conda/lib/python3.7/site-packages (from scramp>=1.4.0->pg8000<1.21.0,>=1.16.0->awswrangler) (1.4.0)\n",
      "Requirement already satisfied: pyparsing>=2.0.2 in /opt/conda/lib/python3.7/site-packages (from packaging->redshift-connector~=2.0.882->awswrangler) (2.4.6)\n",
      "\u001b[33mWARNING: Running pip as the 'root' user can result in broken permissions and conflicting behaviour with the system package manager. It is recommended to use a virtual environment instead: https://pip.pypa.io/warnings/venv\u001b[0m\n",
      "\u001b[33mWARNING: You are using pip version 21.1.3; however, version 21.2.2 is available.\n",
      "You should consider upgrading via the '/opt/conda/bin/python -m pip install --upgrade pip' command.\u001b[0m\n"
     ]
    }
   ],
   "source": [
    "try:\n",
    "    !pip install -U awswrangler\n",
    "except ModuleNotFoundError:\n",
    "    !pip install --no-input awswrangler"
   ]
  },
  {
   "cell_type": "code",
   "execution_count": 2,
   "metadata": {},
   "outputs": [
    {
     "name": "stdout",
     "output_type": "stream",
     "text": [
      "/opt/conda/lib/python3.7/site-packages/secretstorage/dhcrypto.py:16: CryptographyDeprecationWarning: int_from_bytes is deprecated, use int.from_bytes instead\n",
      "  from cryptography.utils import int_from_bytes\n",
      "/opt/conda/lib/python3.7/site-packages/secretstorage/util.py:25: CryptographyDeprecationWarning: int_from_bytes is deprecated, use int.from_bytes instead\n",
      "  from cryptography.utils import int_from_bytes\n",
      "\u001b[33mWARNING: Running pip as the 'root' user can result in broken permissions and conflicting behaviour with the system package manager. It is recommended to use a virtual environment instead: https://pip.pypa.io/warnings/venv\u001b[0m\n",
      "\u001b[33mWARNING: You are using pip version 21.1.3; however, version 21.2.2 is available.\n",
      "You should consider upgrading via the '/opt/conda/bin/python -m pip install --upgrade pip' command.\u001b[0m\n",
      "1.2.0\n"
     ]
    }
   ],
   "source": [
    "# update pandas to avoid data type issues in older 1.0 version\n",
    "!pip install -q pandas==1.2.0\n",
    "import pandas as pd\n",
    "print(pd.__version__)"
   ]
  },
  {
   "cell_type": "code",
   "execution_count": 3,
   "metadata": {},
   "outputs": [],
   "source": [
    "import time\n",
    "import boto3\n",
    "import argparse\n",
    "import pathlib\n",
    "\n",
    "import sagemaker\n",
    "from sagemaker.feature_store.feature_group import FeatureGroup\n",
    "from sagemaker.estimator import Estimator\n",
    "import awswrangler as wr\n",
    "\n",
    "import os\n",
    "import json\n",
    "import matplotlib.pyplot as plt\n",
    "import numpy as np"
   ]
  },
  {
   "cell_type": "code",
   "execution_count": 4,
   "metadata": {},
   "outputs": [
    {
     "name": "stdout",
     "output_type": "stream",
     "text": [
      "music-recommendation-model-endpoint-notebooks\n",
      "date and time = 05/08/2021 06:40:21\n"
     ]
    }
   ],
   "source": [
    "import sys\n",
    "import pprint\n",
    "sys.path.insert(1, './code')\n",
    "from parameter_store import ParameterStore\n",
    "ps = ParameterStore(verbose=False)\n",
    "\n",
    "parameters = ps.read('music-rec')\n",
    "\n",
    "bucket = parameters['bucket']\n",
    "dw_ecrlist = parameters['dw_ecrlist']\n",
    "fg_name_ratings = parameters['fg_name_ratings']\n",
    "fg_name_tracks = parameters['fg_name_tracks']\n",
    "fg_name_user_preferences = parameters['fg_name_user_preferences']\n",
    "\n",
    "flow_export_id = parameters['flow_export_id']\n",
    "flow_s3_uri = parameters['flow_s3_uri']\n",
    "pretrained_model_path = parameters['pretrained_model_path']\n",
    "prefix = parameters['prefix']\n",
    "ratings_data_source = parameters['ratings_data_source']\n",
    "tracks_data_source = parameters['tracks_data_source']\n",
    "model_name = parameters['model_name']\n",
    "training_job_name = parameters['training_job_name']\n",
    "mpg_name = parameters['mpg_name']\n",
    "model_name = parameters['model_name']\n",
    "feature_names = parameters['feature_names']\n",
    "train_data_uri = parameters['train_data_uri']\n",
    "endpoint_name = '{}-endpoint-notebooks'.format(model_name)\n",
    "print(endpoint_name)\n",
    "\n",
    "ps.add({'endpoint_name':endpoint_name}, namespace='music-rec')\n",
    "ps.store()\n"
   ]
  },
  {
   "cell_type": "code",
   "execution_count": 5,
   "metadata": {},
   "outputs": [],
   "source": [
    "sess = sagemaker.Session()\n",
    "region = boto3.Session().region_name\n",
    "boto3.setup_default_session(region_name=region)\n",
    "\n",
    "s3_client = boto3.client('s3')\n",
    "account_id = boto3.client('sts').get_caller_identity()[\"Account\"]\n",
    "\n",
    "boto_session = boto3.Session(region_name=region)\n",
    "\n",
    "sagemaker_client = boto_session.client(service_name='sagemaker', region_name=region)\n",
    "\n",
    "sagemaker_session = sagemaker.session.Session(\n",
    "    boto_session=boto_session,\n",
    "    sagemaker_client=sagemaker_client\n",
    ")\n",
    "\n",
    "sagemaker_role = sagemaker.get_execution_role(sagemaker_session=sagemaker_session)"
   ]
  },
  {
   "cell_type": "markdown",
   "metadata": {},
   "source": [
    "<a id='04-deploy'></a>\n",
    "\n",
    "## Deploy Model\n",
    "\n",
    "##### [back to top](#04-nb)\n",
    "\n",
    "----"
   ]
  },
  {
   "cell_type": "code",
   "execution_count": null,
   "metadata": {},
   "outputs": [],
   "source": []
  },
  {
   "cell_type": "code",
   "execution_count": 6,
   "metadata": {},
   "outputs": [
    {
     "name": "stdout",
     "output_type": "stream",
     "text": [
      "music-recommendation-model-2021-08-05-06-19-44-755\n",
      "\n",
      "2021-08-05 06:40:16 Starting - Preparing the instances for training\n",
      "2021-08-05 06:40:16 Downloading - Downloading input data\n",
      "2021-08-05 06:40:16 Training - Training image download completed. Training in progress.\n",
      "2021-08-05 06:40:16 Uploading - Uploading generated training model\n",
      "2021-08-05 06:40:16 Completed - Training job completed\n"
     ]
    }
   ],
   "source": [
    "# if you want to use a pretrained model, set use_pretrained = True\n",
    "## else use_pretrained = False to use the model you trained in the previous notebook\n",
    "use_pretrained = False\n",
    "\n",
    "if use_pretrained:\n",
    "    # or use a pretrained model if you skipped model training in the last notebook\n",
    "    xgb_estimator = sagemaker.model.Model(\n",
    "        image_uri=sagemaker.image_uris.retrieve(\"xgboost\", region, \"0.90-2\"),\n",
    "        model_data=pretrained_model_path,\n",
    "        role=sagemaker_role\n",
    "    )\n",
    "else:\n",
    "    print(training_job_name)\n",
    "    # reinstantiate the estimator we trained in the previous notebook\n",
    "    xgb_estimator = Estimator.attach(training_job_name)\n"
   ]
  },
  {
   "cell_type": "code",
   "execution_count": 7,
   "metadata": {},
   "outputs": [
    {
     "data": {
      "text/plain": [
       "{'Endpoints': [{'EndpointName': 'music-recommendation-model-endpoint-notebooks',\n",
       "   'EndpointArn': 'arn:aws:sagemaker:us-east-2:738335684114:endpoint/music-recommendation-model-endpoint-notebooks',\n",
       "   'CreationTime': datetime.datetime(2021, 8, 5, 6, 31, 52, 643000, tzinfo=tzlocal()),\n",
       "   'LastModifiedTime': datetime.datetime(2021, 8, 5, 6, 38, 2, 954000, tzinfo=tzlocal()),\n",
       "   'EndpointStatus': 'InService'}],\n",
       " 'NextToken': 'cIws2QhTXUIa8bi8WqnvV4N1YqMOHlD7jElQ14IwjIiM23XR+iTNwl0QRUs3sqoGPqYMA5Qz9DbA31zJ8Dtf785YU/1/Job3V3akido1KSDqHvVM65+T+fn0QQTY3Af9qLoiQgjgtAUoMVouRB8zFy+5mauEFB6p9hOi/xmhq39rQmE0ta/sk8S8wCquTPbxE1q+53sVxtu/B8eT2+La+VlhwdsEQf7+ZVsIbFj2UP34LQ1mtvwp3E+Oy8RULSoX2BaU9kcwEXe6dai3KfAU5FuTadQmI5fikQIZFX5tjPO2VYo0wxIHNy7j+fmwNwseJdrpHWILQzx/chdNuORpQrWl6maUgbJQx3BwGlwPunsTERAOAZrUJElL5mbRYFvEGzNvUYS2hmyiQNnq7F0PBQXGG1zZRnZ+MDtX8aKsvtOBnsbPj8Uipnn3eS0DhojCG5DKOWUL25xTE8Wk6M54DIniNBxAO6WseKdoPAluUrivT5Q3TtrWcCGI7XdbRNKtpd4QdBHXcCoVvJdDmvqQhP47Z588i9+b/FcGQOr5iKxiAT4TSl497HzRxHY/qfFHLX+m8/lBGbg1TG4VNyGNek7c6dwfpjAqqdBvxKpalbLSAD814FPAMAu/2T2FI7wumopA1S1Gyz1Q0FgDPZXcf5p8NPUpXIV3vfaJfBFy3AQTWjoC1LX5VXH1BOyU2a0jiJFRmOLzOpyR9itMZJCkjD0vbxNZFH3Zyvoqrr5SbQXKLer3qFBQHGTtQwsok/8sEGtgsnwmGBWAnr5S4IEa+rHTzhdC5poGfA==',\n",
       " 'ResponseMetadata': {'RequestId': '57ab0b0b-5cc8-489a-a646-0079c42a7136',\n",
       "  'HTTPStatusCode': 200,\n",
       "  'HTTPHeaders': {'x-amzn-requestid': '57ab0b0b-5cc8-489a-a646-0079c42a7136',\n",
       "   'content-type': 'application/x-amz-json-1.1',\n",
       "   'content-length': '1108',\n",
       "   'date': 'Thu, 05 Aug 2021 06:40:21 GMT'},\n",
       "  'RetryAttempts': 0}}"
      ]
     },
     "execution_count": 7,
     "metadata": {},
     "output_type": "execute_result"
    }
   ],
   "source": [
    "endpoint_list = sagemaker_client.list_endpoints(\n",
    "    SortBy='CreationTime',\n",
    "    SortOrder='Descending',\n",
    "    NameContains=endpoint_name,\n",
    "    StatusEquals='InService'\n",
    ")\n",
    "endpoint_list"
   ]
  },
  {
   "cell_type": "markdown",
   "metadata": {},
   "source": [
    "### Create endpoint"
   ]
  },
  {
   "cell_type": "code",
   "execution_count": 8,
   "metadata": {},
   "outputs": [
    {
     "name": "stdout",
     "output_type": "stream",
     "text": [
      "Using existing endpoint: music-recommendation-model-endpoint-notebooks\n",
      "CPU times: user 615 µs, sys: 92 µs, total: 707 µs\n",
      "Wall time: 615 µs\n"
     ]
    }
   ],
   "source": [
    "%%time\n",
    "if len(endpoint_list['Endpoints']) > 0:\n",
    "    print(f\"Using existing endpoint: {endpoint_list['Endpoints'][0]['EndpointName']}\")\n",
    "else:\n",
    "    # deploy endpoint for model if it doesn't already exist\n",
    "    xgb_estimator.deploy(initial_instance_count=1,\n",
    "                         instance_type='ml.m4.xlarge',\n",
    "                         model_name=model_name,\n",
    "                         endpoint_name=endpoint_name\n",
    "                         )"
   ]
  },
  {
   "cell_type": "code",
   "execution_count": 9,
   "metadata": {},
   "outputs": [],
   "source": [
    "model_package = sagemaker_client.list_model_packages(ModelPackageGroupName=mpg_name)['ModelPackageSummaryList'][0]\n",
    "model_package_update = {\n",
    "    'ModelPackageArn': model_package['ModelPackageArn'],\n",
    "    'ModelApprovalStatus': 'Approved'\n",
    "}\n",
    "\n",
    "update_response = sagemaker_client.update_model_package(**model_package_update)"
   ]
  },
  {
   "cell_type": "markdown",
   "metadata": {},
   "source": [
    "<a id='04-predictor'> </a>\n",
    "\n",
    "## Create a predictor\n",
    "\n",
    "##### [back to top](#04-nb)\n",
    "\n",
    "----"
   ]
  },
  {
   "cell_type": "code",
   "execution_count": 10,
   "metadata": {},
   "outputs": [],
   "source": [
    "predictor = sagemaker.predictor.Predictor(\n",
    "    endpoint_name=endpoint_name,\n",
    "    sagemaker_session=sagemaker_session)"
   ]
  },
  {
   "cell_type": "markdown",
   "metadata": {},
   "source": [
    "### Pull user data from feature group"
   ]
  },
  {
   "cell_type": "code",
   "execution_count": 11,
   "metadata": {},
   "outputs": [],
   "source": [
    "# random user ID. You can try any other ID\n",
    "sample_user_id = 11005"
   ]
  },
  {
   "cell_type": "code",
   "execution_count": 12,
   "metadata": {},
   "outputs": [],
   "source": [
    "featurestore_runtime = boto_session.client(service_name='sagemaker-featurestore-runtime', region_name=region)\n",
    "\n",
    "feature_store_session = sagemaker.Session(\n",
    "    boto_session=boto_session,\n",
    "    sagemaker_client=sagemaker_client,\n",
    "    sagemaker_featurestore_runtime_client=featurestore_runtime\n",
    ")"
   ]
  },
  {
   "cell_type": "code",
   "execution_count": 13,
   "metadata": {},
   "outputs": [],
   "source": [
    "# pull the sample user's 5 star preferences record from the feature store\n",
    "fg_response = featurestore_runtime.get_record(\n",
    "    FeatureGroupName=fg_name_user_preferences, \n",
    "    RecordIdentifierValueAsString=str(sample_user_id)\n",
    ")\n",
    "\n",
    "record = fg_response['Record']\n",
    "df_user = pd.DataFrame(record).set_index('FeatureName')"
   ]
  },
  {
   "cell_type": "markdown",
   "metadata": {},
   "source": [
    "### Pull sample of 1000 tracks from feature group"
   ]
  },
  {
   "cell_type": "code",
   "execution_count": 14,
   "metadata": {},
   "outputs": [
    {
     "name": "stdout",
     "output_type": "stream",
     "text": [
      "Running SELECT * FROM \"track-features-music-rec-1628139447\" LIMIT 1000\n"
     ]
    }
   ],
   "source": [
    "# pull a sample of the tracks data (multiple records) from the feature store using athena query\n",
    "fg_name_tracks_obj = FeatureGroup(name=fg_name_tracks, sagemaker_session=feature_store_session)\n",
    "tracks_query = fg_name_tracks_obj.athena_query()\n",
    "tracks_table = tracks_query.table_name\n",
    "\n",
    "# use escaped quotes aound table name since it contains '-' symbols\n",
    "query_string = (\"SELECT * FROM \\\"{}\\\" LIMIT 1000\".format(tracks_table))\n",
    "print(\"Running \" + query_string)\n",
    "\n",
    "# run Athena query. The output is loaded to a Pandas dataframe.\n",
    "tracks_query.run(query_string=query_string, output_location=f\"s3://{bucket}/{prefix}/query_results/\")\n",
    "tracks_query.wait()\n",
    "df_tracks = tracks_query.as_dataframe()"
   ]
  },
  {
   "cell_type": "code",
   "execution_count": 15,
   "metadata": {},
   "outputs": [],
   "source": [
    "data = df_tracks.merge(pd.DataFrame(df_user['ValueAsString']).T, how='cross')\n",
    "data.columns = [c.lower() for c in data.columns]\n",
    "inference_df = data[feature_names]"
   ]
  },
  {
   "cell_type": "markdown",
   "metadata": {},
   "source": [
    "### Format the datapoint\n",
    "The datapoint must match the exact input format as the model was trained--with all features in the correct order. In this example, the `col_order` variable was saved when you created the train and test datasets earlier in the guide."
   ]
  },
  {
   "cell_type": "code",
   "execution_count": 16,
   "metadata": {},
   "outputs": [],
   "source": [
    "data_inputs = [','.join([str(i) for i in row]) for row in inference_df.values]"
   ]
  },
  {
   "cell_type": "markdown",
   "metadata": {},
   "source": [
    "<a id='04-infer'> </a>\n",
    "\n",
    "## Infer (predict) new songs using model\n",
    "\n",
    "##### [back to top](#04-nb)\n",
    "\n",
    "----"
   ]
  },
  {
   "cell_type": "code",
   "execution_count": 17,
   "metadata": {},
   "outputs": [
    {
     "name": "stdout",
     "output_type": "stream",
     "text": [
      "Predicted rating for user 11005: 2.9320945739746094\n"
     ]
    }
   ],
   "source": [
    "predictions = []\n",
    "for data_input in data_inputs:\n",
    "    results = predictor.predict(data_input, initial_args = {\"ContentType\": \"text/csv\"})\n",
    "    prediction = json.loads(results)\n",
    "    predictions.append(prediction)\n",
    "print(f'Predicted rating for user {int(sample_user_id)}:', prediction)"
   ]
  },
  {
   "cell_type": "code",
   "execution_count": 18,
   "metadata": {},
   "outputs": [
    {
     "name": "stderr",
     "output_type": "stream",
     "text": [
      "/opt/conda/lib/python3.7/site-packages/ipykernel_launcher.py:2: SettingWithCopyWarning: \n",
      "A value is trying to be set on a copy of a slice from a DataFrame.\n",
      "Try using .loc[row_indexer,col_indexer] = value instead\n",
      "\n",
      "See the caveats in the documentation: https://pandas.pydata.org/pandas-docs/stable/user_guide/indexing.html#returning-a-view-versus-a-copy\n",
      "  \n"
     ]
    }
   ],
   "source": [
    "# Write to csv in S3 without headers and index column.\n",
    "inference_df['rating'] = predictions\n",
    "inference_df = inference_df[['rating']+feature_names]\n",
    "inference_df.to_csv('data/prediction_data.csv', header=False, index=False)\n",
    "\n",
    "s3_client.upload_file('data/prediction_data.csv', bucket, f'{prefix}/data/pred/prediction_data.csv')\n",
    "\n",
    "pred_data_uri = f's3://{bucket}/{prefix}/data/pred/prediction_data.csv'"
   ]
  },
  {
   "cell_type": "code",
   "execution_count": 19,
   "metadata": {},
   "outputs": [],
   "source": [
    "df_train = pd.read_csv(train_data_uri)\n",
    "\n",
    "label = 'rating'"
   ]
  },
  {
   "cell_type": "markdown",
   "metadata": {},
   "source": [
    "<a id='04-explain'> </a>\n",
    "\n",
    "## Explain model predictions\n",
    "\n",
    "##### [back to top](#04-nb)\n",
    "\n",
    "----"
   ]
  },
  {
   "cell_type": "code",
   "execution_count": 20,
   "metadata": {},
   "outputs": [],
   "source": [
    "explainability_output_path = f's3://{bucket}/{prefix}/clarify-output/explainability'"
   ]
  },
  {
   "cell_type": "code",
   "execution_count": 21,
   "metadata": {},
   "outputs": [],
   "source": [
    "clarify_processor = sagemaker.clarify.SageMakerClarifyProcessor(\n",
    "    role=sagemaker_role,\n",
    "    instance_count=1,\n",
    "    instance_type='ml.c4.xlarge',\n",
    "    sagemaker_session=sagemaker_session)\n",
    "\n",
    "model_config = sagemaker.clarify.ModelConfig(\n",
    "    model_name=model_name,\n",
    "    instance_type='ml.m4.xlarge',\n",
    "    instance_count=1,\n",
    "    accept_type='text/csv')\n",
    "\n",
    "shap_config = sagemaker.clarify.SHAPConfig(\n",
    "    baseline=[df_train.median().values[1:].tolist()],  # ignore the first column since that is that target\n",
    "    num_samples=100,\n",
    "    agg_method='mean_abs')\n",
    "\n",
    "explainability_data_config = sagemaker.clarify.DataConfig(\n",
    "    s3_data_input_path=pred_data_uri,\n",
    "    s3_output_path=explainability_output_path,\n",
    "    label=label,\n",
    "    headers=[label]+feature_names,\n",
    "    dataset_type='text/csv')\n"
   ]
  },
  {
   "cell_type": "code",
   "execution_count": 22,
   "metadata": {
    "scrolled": true
   },
   "outputs": [
    {
     "name": "stdout",
     "output_type": "stream",
     "text": [
      "Running explainability job\n",
      "\n",
      "Job Name:  Clarify-Explainability-2021-08-05-06-40-45-051\n",
      "Inputs:  [{'InputName': 'dataset', 'AppManaged': False, 'S3Input': {'S3Uri': 's3://sagemaker-us-east-2-738335684114/music-recommendation/data/pred/prediction_data.csv', 'LocalPath': '/opt/ml/processing/input/data', 'S3DataType': 'S3Prefix', 'S3InputMode': 'File', 'S3DataDistributionType': 'FullyReplicated', 'S3CompressionType': 'None'}}, {'InputName': 'analysis_config', 'AppManaged': False, 'S3Input': {'S3Uri': 's3://sagemaker-us-east-2-738335684114/music-recommendation/clarify-output/explainability/analysis_config.json', 'LocalPath': '/opt/ml/processing/input/config', 'S3DataType': 'S3Prefix', 'S3InputMode': 'File', 'S3DataDistributionType': 'FullyReplicated', 'S3CompressionType': 'None'}}]\n",
      "Outputs:  [{'OutputName': 'analysis_result', 'AppManaged': False, 'S3Output': {'S3Uri': 's3://sagemaker-us-east-2-738335684114/music-recommendation/clarify-output/explainability', 'LocalPath': '/opt/ml/processing/output', 'S3UploadMode': 'EndOfJob'}}]\n",
      "....................................\u001b[34mINFO:sagemaker-clarify-processing:Starting SageMaker Clarify Processing job\u001b[0m\n",
      "\u001b[34mINFO:analyzer.data_loading.data_loader_util:Analysis config path: /opt/ml/processing/input/config/analysis_config.json\u001b[0m\n",
      "\u001b[34mINFO:analyzer.data_loading.data_loader_util:Analysis result path: /opt/ml/processing/output\u001b[0m\n",
      "\u001b[34mINFO:analyzer.data_loading.data_loader_util:This host is algo-1.\u001b[0m\n",
      "\u001b[34mINFO:analyzer.data_loading.data_loader_util:This host is the leader.\u001b[0m\n",
      "\u001b[34mINFO:analyzer.data_loading.data_loader_util:Number of hosts in the cluster is 1.\u001b[0m\n",
      "\u001b[34mINFO:sagemaker-clarify-processing:Running Python / Pandas based analyzer.\u001b[0m\n",
      "\u001b[34mINFO:analyzer.data_loading.data_loader_util:Dataset uri: /opt/ml/processing/input/data\u001b[0m\n",
      "\u001b[34mINFO:analyzer.data_loading.data_loader_util:Dataset type: text/csv\u001b[0m\n",
      "\u001b[34mINFO:analyzer.predictor:Spinning up shadow endpoint\u001b[0m\n",
      "\u001b[34mINFO:sagemaker:Creating endpoint-config with name sagemaker-clarify-endpoint-config-1628145994-984f\u001b[0m\n",
      "\u001b[34mINFO:analyzer.predictor:Creating endpoint sagemaker-clarify-endpoint-1628145994-29f6\u001b[0m\n",
      "\u001b[34mINFO:explainers.shap.kernel_shap:SHAP n_samples 100\u001b[0m\n",
      "\u001b[34mINFO:analyzer.predictor:Checking endpoint status\u001b[0m\n",
      "\u001b[34mINFO:analyzer.predictor:Endpoint is in service after 421 seconds\u001b[0m\n",
      "\u001b[34mINFO:analyzer.shap_analyzer:=====================================================\u001b[0m\n",
      "\u001b[34mINFO:analyzer.shap_analyzer:Shap analyzer: explaining 1000 rows, 37 columns...\u001b[0m\n",
      "\u001b[34mINFO:analyzer.shap_analyzer:=====================================================\u001b[0m\n",
      "\u001b[34mINFO:analyzer.predictor:Prediction batch size is initialized with 15572\u001b[0m\n",
      "\u001b[34mN/A% (0 of 1000) |                       | Elapsed Time: 0:00:00 ETA:  --:--:--\u001b[0m\n",
      "\u001b[34m 79% (794 of 1000) |################     | Elapsed Time: 0:00:30 ETA:   0:00:07\u001b[0m\n",
      "\u001b[34m100% (1000 of 1000) |####################| Elapsed Time: 0:00:37 Time:  0:00:37\u001b[0m\n",
      "\u001b[34mINFO:analyzer.shap_analyzer:getting explanations took 37.44 seconds.\u001b[0m\n",
      "\u001b[34mINFO:analyzer.shap_analyzer:===================================================\u001b[0m\n",
      "\u001b[34mINFO:analyzer.shap_analyzer:converting explanations to tabular took 0.16 seconds.\u001b[0m\n",
      "\u001b[34mINFO:analyzer.shap_analyzer:===================================================\u001b[0m\n",
      "\u001b[34mINFO:analyzer.shap_analyzer:Wrote baseline used to compute explanations to: /opt/ml/processing/output/explanations_shap/baseline.csv\u001b[0m\n",
      "\u001b[34mINFO:analyzer.shap_analyzer:Wrote 1000 local explanations to: /opt/ml/processing/output/explanations_shap/out.csv\u001b[0m\n",
      "\u001b[34mINFO:analyzer.shap_analyzer:writing local explanations took 0.05 seconds.\u001b[0m\n",
      "\u001b[34mINFO:analyzer.shap_analyzer:===================================================\u001b[0m\n",
      "\u001b[34mINFO:analyzer.shap_analyzer:aggregating local explanations took 0.00 seconds.\u001b[0m\n",
      "\u001b[34mINFO:analyzer.shap_analyzer:===================================================\u001b[0m\n",
      "\u001b[34mINFO:analyzer.shap_analyzer:Shap analysis finished.\u001b[0m\n",
      "\u001b[34mINFO:analyzer.predictor:Stop using endpoint: sagemaker-clarify-endpoint-1628145994-29f6\u001b[0m\n",
      "\u001b[34mINFO:sagemaker:Deleting endpoint configuration with name: sagemaker-clarify-endpoint-config-1628145994-984f\u001b[0m\n",
      "\u001b[34mINFO:sagemaker:Deleting endpoint with name: sagemaker-clarify-endpoint-1628145994-29f6\u001b[0m\n",
      "\u001b[34mINFO:analyzer.predictor:Model endpoint delivered 26.48315 requests per second and a total of 1001 requests over 38 seconds\u001b[0m\n",
      "\u001b[34mINFO:analyzer.predictor:Delivered 1001 predict calls with a total of 101001 examples.\u001b[0m\n",
      "\n",
      "\u001b[34mINFO:analyzer.report:jupyter nbconvert --to html --output /opt/ml/processing/output/report.html /opt/ml/processing/output/report.ipynb --template sagemaker-xai\u001b[0m\n",
      "\u001b[34m[NbConvertApp] Converting notebook /opt/ml/processing/output/report.ipynb to html\u001b[0m\n",
      "\u001b[34m[NbConvertApp] Writing 920698 bytes to /opt/ml/processing/output/report.html\u001b[0m\n",
      "\u001b[34mINFO:analyzer.report:HTML report '/opt/ml/processing/output/report.html' generated successfully.\u001b[0m\n",
      "\u001b[34mINFO:analyzer.report:Removing script tags from the generated html file\u001b[0m\n",
      "\u001b[34mINFO:analyzer.report:wkhtmltopdf -q /opt/ml/processing/output/report.html /opt/ml/processing/output/report.pdf\u001b[0m\n",
      "\u001b[34mINFO:analyzer.report:PDF report '/opt/ml/processing/output/report.pdf' generated successfully.\u001b[0m\n",
      "\u001b[34mINFO:sagemaker-clarify-processing:Collected analyses: \u001b[0m\n",
      "\u001b[34m{\n",
      "    \"version\": \"1.0\",\n",
      "    \"explanations\": {\n",
      "        \"kernel_shap\": {\n",
      "            \"label0\": {\n",
      "                \"global_shap_values\": {\n",
      "                    \"length\": 0.08853283026582011,\n",
      "                    \"energy\": 0.19382193999825997,\n",
      "                    \"acousticness\": 0.1490508097005226,\n",
      "                    \"valence\": 0.09727330522100573,\n",
      "                    \"speechiness\": 0.13329703182544955,\n",
      "                    \"instrumentalness\": 0.09958564957823525,\n",
      "                    \"liveness\": 0.08369697902164916,\n",
      "                    \"tempo\": 0.0936765552147797,\n",
      "                    \"danceability\": 0.12185690233230663,\n",
      "                    \"genre_latin\": 0.08375381089624871,\n",
      "                    \"genre_folk\": 0.08404993512754624,\n",
      "                    \"genre_blues\": 0.08277061495020006,\n",
      "                    \"genre_rap\": 0.08145413633913651,\n",
      "                    \"genre_reggae\": 0.08373968465796777,\n",
      "                    \"genre_jazz\": 0.08368889106472166,\n",
      "                    \"genre_rnb\": 0.08104720633305859,\n",
      "                    \"genre_country\": 0.08614475691438715,\n",
      "                    \"genre_electronic\": 0.08141968746582395,\n",
      "                    \"genre_pop_rock\": 0.08452440428690201,\n",
      "                    \"energy_5star\": 0.19824625002950147,\n",
      "                    \"acousticness_5star\": 0.17639157668345248,\n",
      "                    \"valence_5star\": 0.12905732491603267,\n",
      "                    \"speechiness_5star\": 0.12064481306075887,\n",
      "                    \"instrumentalness_5star\": 0.11085709195507829,\n",
      "                    \"liveness_5star\": 0.08780502710972311,\n",
      "                    \"tempo_5star\": 0.09412556420999901,\n",
      "                    \"danceability_5star\": 0.1160930600018626,\n",
      "                    \"genre_latin_5star\": 0.0822506387967219,\n",
      "                    \"genre_folk_5star\": 0.08175722894133093,\n",
      "                    \"genre_blues_5star\": 0.08302796974873934,\n",
      "                    \"genre_rap_5star\": 0.08074834699264258,\n",
      "                    \"genre_reggae_5star\": 0.08472552037995086,\n",
      "                    \"genre_jazz_5star\": 0.08921270331443193,\n",
      "                    \"genre_rnb_5star\": 0.08478254309037664,\n",
      "                    \"genre_country_5star\": 0.08640740342070799,\n",
      "                    \"genre_electronic_5star\": 0.07942858150771247,\n",
      "                    \"genre_pop_rock_5star\": 0.08546184882143197\n",
      "                },\n",
      "                \"expected_value\": 3.6402857303619385\n",
      "            }\n",
      "        }\n",
      "    }\u001b[0m\n",
      "\u001b[34m}\u001b[0m\n",
      "\u001b[34mINFO:analyzer.system_util:exit_message: Completed: SageMaker XAI Analyzer ran successfully\u001b[0m\n",
      "\u001b[34m-------!\u001b[0m\n",
      "CPU times: user 1.68 s, sys: 98.8 ms, total: 1.78 s\n",
      "Wall time: 14min 20s\n"
     ]
    }
   ],
   "source": [
    "%%time\n",
    "try:\n",
    "    s3_client.download_file(\n",
    "        Bucket   = bucket, \n",
    "        Key      = f'{prefix}/clarify-output/explainability/explanations_shap/out.csv', \n",
    "        Filename = 'data/shap_output.csv'\n",
    "    )\n",
    "    print('Downloaded output from previous explainability job')\n",
    "except Exception as e:\n",
    "    error = e.response.get('Error').get('Code')\n",
    "    if error == '404':\n",
    "        print('Running explainability job')\n",
    "        clarify_processor.run_explainability(\n",
    "            data_config=explainability_data_config,\n",
    "            model_config=model_config,\n",
    "            explainability_config=shap_config)"
   ]
  },
  {
   "cell_type": "code",
   "execution_count": 23,
   "metadata": {},
   "outputs": [],
   "source": [
    "inference_df['trackid'] = data['trackid']"
   ]
  },
  {
   "cell_type": "code",
   "execution_count": 24,
   "metadata": {},
   "outputs": [
    {
     "name": "stdout",
     "output_type": "stream",
     "text": [
      "Curated Playlist:\n",
      " 926    d3e8fab6-09d4-4737-a8d1-52761aad71c7\n",
      "541    e4767b66-6b5d-4844-a5c4-05fb68ab4c3d\n",
      "612    b4cc4b2f-b54a-4697-b829-f392f1da1853\n",
      "499    abc3a1d5-3404-49b3-885b-fbaef87ee4b0\n",
      "604    7210b04b-2402-4978-b71d-6901629d8195\n",
      "996    f5bfcfda-8a32-419c-bb5f-f01ed6b836e7\n",
      "148    4ef61910-df56-4d3f-ae20-33221e0f0838\n",
      "211    7366cc7c-99fd-4758-8a52-c1c90373e8c4\n",
      "624    7f22d50f-1380-436f-9ac5-994054181de9\n",
      "475    c6160b43-257a-4941-bae4-e2addeed1289\n",
      "Name: trackid, dtype: object\n"
     ]
    }
   ],
   "source": [
    "playlist_length = 10  # number of songs to recommend in playlist\n",
    "playlist = inference_df.sort_values(by='rating', ascending=False).head(playlist_length)\n",
    "print('Curated Playlist:\\n', playlist['trackid'])"
   ]
  },
  {
   "cell_type": "code",
   "execution_count": 25,
   "metadata": {},
   "outputs": [
    {
     "name": "stdout",
     "output_type": "stream",
     "text": [
      "Model prediction: 5.451362133026123\n"
     ]
    },
    {
     "data": {
      "text/plain": [
       "<matplotlib.axes._subplots.AxesSubplot at 0x7feae07a7a50>"
      ]
     },
     "execution_count": 25,
     "metadata": {},
     "output_type": "execute_result"
    },
    {
     "data": {
      "image/png": "[encoded data removed]",
      "text/plain": [
       "<Figure size 864x432 with 1 Axes>"
      ]
     },
     "metadata": {
      "needs_background": "light"
     },
     "output_type": "display_data"
    }
   ],
   "source": [
    "local_explanations_out = pd.read_csv(explainability_output_path+'/explanations_shap/out.csv')\n",
    "local_explanations_out.columns = feature_names\n",
    "\n",
    "print(\"Model prediction:\", playlist.iloc[0, 0])\n",
    "plt.figure(figsize=(12,6))\n",
    "local_explanations_out.iloc[0].sort_values().plot.barh(title='Local explanation for prediction')"
   ]
  }
 ],
 "metadata": {
  "instance_type": "ml.t3.medium",
  "kernelspec": {
   "display_name": "Python 3 (Data Science)",
   "language": "python",
   "name": "python3__SAGEMAKER_INTERNAL__arn:aws:sagemaker:us-east-2:429704687514:image/datascience-1.0"
  },
  "language_info": {
   "codemirror_mode": {
    "name": "ipython",
    "version": 3
   },
   "file_extension": ".py",
   "mimetype": "text/x-python",
   "name": "python",
   "nbconvert_exporter": "python",
   "pygments_lexer": "ipython3",
   "version": "3.7.10"
  }
 },
 "nbformat": 4,
 "nbformat_minor": 4
}
